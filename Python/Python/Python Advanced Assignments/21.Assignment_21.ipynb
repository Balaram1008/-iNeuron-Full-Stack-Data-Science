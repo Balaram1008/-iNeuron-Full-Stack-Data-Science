{
 "cells": [
  {
   "cell_type": "code",
   "execution_count": null,
   "id": "c40c07e0",
   "metadata": {},
   "outputs": [],
   "source": [
    "Q1. What is a probability distribution, exactly? If the values are meant to be random, how can you predict them at all ?"
   ]
  },
  {
   "cell_type": "code",
   "execution_count": null,
   "id": "c14e2daf",
   "metadata": {},
   "outputs": [],
   "source": [
    "Ans: A probability distribution describes how a random variable is distributed.\n",
    "\n",
    "It tells us which values a random variable is most likely to take on and which values are less likely. Based on the previous data and the occurences of the random event, we can predict the outcome in terms of probabilities."
   ]
  },
  {
   "cell_type": "code",
   "execution_count": null,
   "id": "d7feaa0d",
   "metadata": {},
   "outputs": [],
   "source": [
    "Q2. Is there a distinction between true random numbers and pseudo-random numbers, if there is one? Why are the latter considered “good enough”?"
   ]
  },
  {
   "cell_type": "code",
   "execution_count": null,
   "id": "fbd613ef",
   "metadata": {},
   "outputs": [],
   "source": [
    "Ans: : True Random Numbers are true physical values while pseudo-random numbers are generated internally by a program . Latter is considered good enough as they have sort of uniform distribution."
   ]
  },
  {
   "cell_type": "code",
   "execution_count": null,
   "id": "79bd07a8",
   "metadata": {},
   "outputs": [],
   "source": [
    "Q3. What are the two main factors that influence the behaviour of a \"normal\" probability distribution ?"
   ]
  },
  {
   "cell_type": "code",
   "execution_count": null,
   "id": "488988aa",
   "metadata": {},
   "outputs": [],
   "source": [
    "Ans: Normal Probability Distribution are influenced by two factors mean and the variance."
   ]
  },
  {
   "cell_type": "code",
   "execution_count": null,
   "id": "5d9b2e12",
   "metadata": {},
   "outputs": [],
   "source": [
    "Q4. Provide a real-life example of a normal distribution ?"
   ]
  },
  {
   "cell_type": "code",
   "execution_count": null,
   "id": "61fa1cad",
   "metadata": {},
   "outputs": [],
   "source": [
    "Ans: A Real-life example of a normal distribution are heights or blood pressure measurements"
   ]
  },
  {
   "cell_type": "code",
   "execution_count": null,
   "id": "cf19f1a1",
   "metadata": {},
   "outputs": [],
   "source": [
    "Q5. In the short term, how can you expect a probability distribution to behave? What do you think will happen as the number of trials grows ?"
   ]
  },
  {
   "cell_type": "code",
   "execution_count": null,
   "id": "6e8f9384",
   "metadata": {},
   "outputs": [],
   "source": [
    "Ans: Variance will decrease with number of trials"
   ]
  },
  {
   "cell_type": "code",
   "execution_count": null,
   "id": "2d55cf41",
   "metadata": {},
   "outputs": [],
   "source": [
    "Q6. What kind of object can be shuffled by using random.shuffle ?"
   ]
  },
  {
   "cell_type": "code",
   "execution_count": null,
   "id": "af3716aa",
   "metadata": {},
   "outputs": [],
   "source": [
    "Ans: lists (list), strings (str) and tuples (tuple) objects can be shuffled by using random.shuffle."
   ]
  },
  {
   "cell_type": "code",
   "execution_count": null,
   "id": "af43268f",
   "metadata": {},
   "outputs": [],
   "source": [
    "Q7. Describe the math package's general categories of functions ?"
   ]
  },
  {
   "cell_type": "code",
   "execution_count": null,
   "id": "6fcad7d8",
   "metadata": {},
   "outputs": [],
   "source": [
    "Ans: The Math package's general categories of functions are:\n",
    "\n",
    "Trigonometric functions\n",
    "Quadratic functions\n",
    "Exponential functions\n",
    "Hyperbolic functions\n",
    "Periodic functions\n",
    "Arithmetic functions\n",
    "Logarithimic functions\n",
    "Conversions to Integer"
   ]
  },
  {
   "cell_type": "code",
   "execution_count": null,
   "id": "4d11385c",
   "metadata": {},
   "outputs": [],
   "source": [
    "Q8. What is the relationship between exponentiation and logarithms ?"
   ]
  },
  {
   "cell_type": "code",
   "execution_count": null,
   "id": "049c39bb",
   "metadata": {},
   "outputs": [],
   "source": [
    "Ans: Exponentiation and logarithms are inverse of each other."
   ]
  },
  {
   "cell_type": "code",
   "execution_count": null,
   "id": "8aff7609",
   "metadata": {},
   "outputs": [],
   "source": [
    "Q9. What are the three logarithmic functions that Python supports ?"
   ]
  },
  {
   "cell_type": "code",
   "execution_count": null,
   "id": "ab154441",
   "metadata": {},
   "outputs": [],
   "source": [
    "Ans: The Three Logarithmic Functions that Python supports are:\n",
    "\n",
    "log2(x) - logarithmic value of x to base 2\n",
    "log10(x) - logarithmic value of x to base 10\n",
    "log1p(a) - This function is used to compute logarithm(1+a) ."
   ]
  }
 ],
 "metadata": {
  "kernelspec": {
   "display_name": "Python 3 (ipykernel)",
   "language": "python",
   "name": "python3"
  },
  "language_info": {
   "codemirror_mode": {
    "name": "ipython",
    "version": 3
   },
   "file_extension": ".py",
   "mimetype": "text/x-python",
   "name": "python",
   "nbconvert_exporter": "python",
   "pygments_lexer": "ipython3",
   "version": "3.9.7"
  }
 },
 "nbformat": 4,
 "nbformat_minor": 5
}

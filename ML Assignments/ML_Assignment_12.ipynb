{
 "cells": [
  {
   "cell_type": "code",
   "execution_count": null,
   "id": "0a6a0362",
   "metadata": {},
   "outputs": [],
   "source": [
    "1. What is prior probability ? Give an example ?"
   ]
  },
  {
   "cell_type": "code",
   "execution_count": null,
   "id": "cd0b0a8f",
   "metadata": {},
   "outputs": [],
   "source": [
    "Ans: Prior probability shows the likelihood of an outcome in a given dataset. For example, in the mortgage case, P(Y) is the default rate on a home mortgage, which is 2%. P(Y|X) is called the conditional probability, which provides the probability of an outcome given the evidence, that is, when the value of X is known."
   ]
  },
  {
   "cell_type": "code",
   "execution_count": null,
   "id": "555087bf",
   "metadata": {},
   "outputs": [],
   "source": [
    "2. What is posterior probability ? Give an example ?"
   ]
  },
  {
   "cell_type": "code",
   "execution_count": null,
   "id": "82406256",
   "metadata": {},
   "outputs": [],
   "source": [
    "Ans:: Posterior probability is a revised probability that takes into account new available information. For example, let there be two urns, urn A having 5 black balls and 10 red balls and urn B having 10 black balls and 5 red balls."
   ]
  },
  {
   "cell_type": "code",
   "execution_count": null,
   "id": "0b54eb23",
   "metadata": {},
   "outputs": [],
   "source": [
    "3. What is likelihood probability ? Give an example ?"
   ]
  },
  {
   "cell_type": "code",
   "execution_count": null,
   "id": "92633dce",
   "metadata": {},
   "outputs": [],
   "source": [
    "Ans: Likelihood Function in Machine Learning and Data Science is the joint probability distribution(jpd) of the dataset given as a function of the parameter. Think of it as the probability of obtaining the observed data given the parameter values."
   ]
  },
  {
   "cell_type": "code",
   "execution_count": null,
   "id": "1756c328",
   "metadata": {},
   "outputs": [],
   "source": [
    "4. What is Naïve Bayes classifier ? Why is it named so ?"
   ]
  },
  {
   "cell_type": "code",
   "execution_count": null,
   "id": "079dd245",
   "metadata": {},
   "outputs": [],
   "source": [
    "Ans: Naive Bayes is a simple and powerful algorithm for predictive modeling. Naive Bayes is called naive because it assumes that each input variable is independent. This is a strong assumption and unrealistic for real data; however, the technique is very effective on a large range of complex problems."
   ]
  },
  {
   "cell_type": "code",
   "execution_count": null,
   "id": "c160ca52",
   "metadata": {},
   "outputs": [],
   "source": [
    "5. What is optimal Bayes classifier ?"
   ]
  },
  {
   "cell_type": "code",
   "execution_count": null,
   "id": "2cf45dde",
   "metadata": {},
   "outputs": [],
   "source": [
    "Ans: The Bayes Optimal Classifier is a probabilistic model that makes the most probable prediction for a new example. Bayes Optimal Classifier is a probabilistic model that finds the most probable prediction using the training data and space of hypotheses to make a prediction for a new data instance."
   ]
  },
  {
   "cell_type": "code",
   "execution_count": null,
   "id": "fa8d442b",
   "metadata": {},
   "outputs": [],
   "source": [
    "6. Write any two features of Bayesian learning methods ?"
   ]
  },
  {
   "cell_type": "code",
   "execution_count": null,
   "id": "4030365f",
   "metadata": {},
   "outputs": [],
   "source": [
    "Ans: A probability distribution over observed data for each possible hypothesis. New instances can be classified by combining the predictions of multiple hypotheses, weighted by their probabilities."
   ]
  },
  {
   "cell_type": "code",
   "execution_count": null,
   "id": "551b8b13",
   "metadata": {},
   "outputs": [],
   "source": [
    "7. Define the concept of consistent learners ?"
   ]
  },
  {
   "cell_type": "code",
   "execution_count": null,
   "id": "6d068d05",
   "metadata": {},
   "outputs": [],
   "source": [
    "Ans: Consistent Learners: A learner L using a hypothesis H and training data D is said to be a consistent learner if it always outputs a hypothesis with zero error on D whenever H contains such a hypothesis. • By definition, a consistent learner must produce a hypothesis in the version space for H given D."
   ]
  },
  {
   "cell_type": "code",
   "execution_count": null,
   "id": "b61769ba",
   "metadata": {},
   "outputs": [],
   "source": [
    "8. Write any two strengths of Bayes classifier ?"
   ]
  },
  {
   "cell_type": "code",
   "execution_count": null,
   "id": "54c8a189",
   "metadata": {},
   "outputs": [],
   "source": [
    "Ans: This algorithm works quickly and can save a lot of time. Naive Bayes is suitable for solving multi-class prediction problems. If its assumption of the independence of features holds true, it can perform better than other models and requires much less training data.\n",
    "\n",
    "It is simple and easy to implement.\n",
    "It doesn't require as much training data.\n",
    "It handles both continuous and discrete data.\n",
    "It is highly scalable with the number of predictors and data points.\n",
    "It is fast and can be used to make real-time predictions."
   ]
  },
  {
   "cell_type": "code",
   "execution_count": null,
   "id": "45341ef5",
   "metadata": {},
   "outputs": [],
   "source": [
    "9. Write any two weaknesses of Bayes classifier ?"
   ]
  },
  {
   "cell_type": "code",
   "execution_count": null,
   "id": "cc1a75b5",
   "metadata": {},
   "outputs": [],
   "source": [
    "Ans: The greatest weakness of the naïve Bayes classifier is that it relies on an often-faulty assumption of equally important and independent features which results in biased posterior probabilities.\n",
    "\n",
    "If your test data set has a categorical variable of a category that wasn’t present in the training data set, the Naive Bayes model will assign it zero probability and won’t be able to make any predictions in this regard. This phenomenon is called ‘Zero Frequency,’ and you’ll have to use a smoothing technique to solve this problem.\n",
    "This algorithm is also notorious as a lousy estimator. So, you shouldn’t take the probability outputs of ‘predict_proba’ too seriously.\n",
    "It assumes that all the features are independent. While it might sound great in theory, in real life, you’ll hardly find a set of independent features."
   ]
  },
  {
   "cell_type": "code",
   "execution_count": null,
   "id": "453f9c64",
   "metadata": {},
   "outputs": [],
   "source": [
    "10. Explain how Naïve Bayes classifier is used for:\n",
    "Text classification\n",
    "Spam filtering\n",
    "Market sentiment analysis"
   ]
  },
  {
   "cell_type": "code",
   "execution_count": null,
   "id": "95888e62",
   "metadata": {},
   "outputs": [],
   "source": [
    "Ans: Navie Bayes Classifier is used for:\n",
    "\n",
    "Text classification:\n",
    "The Naive Bayes classifier is a simple classifier that classifies based on probabilities of events. It is the applied commonly to text classification. With the training set, we can train a Naive Bayes classifier which we can use to automaticall categorize a new sentence.\n",
    "\n",
    "Spam filtering:\n",
    "Naive Bayes classifiers work by correlating the use of tokens (typically words, or sometimes other things), with spam and non-spam e-mails and then using Bayes' theorem to calculate a probability that an email is or is not spam. It is one of the oldest ways of doing spam filtering, with roots in the 1990s.\n",
    "\n",
    "Market sentiment analysis:\n",
    "Market Sentiment analysis is a field dedicated to extracting subjective emotions and feelings from text. One common use of sentiment analysis is to figure out if a text expresses negative or positive feelings. Naive Bayes is a popular algorithm for classifying text."
   ]
  }
 ],
 "metadata": {
  "kernelspec": {
   "display_name": "Python 3 (ipykernel)",
   "language": "python",
   "name": "python3"
  },
  "language_info": {
   "codemirror_mode": {
    "name": "ipython",
    "version": 3
   },
   "file_extension": ".py",
   "mimetype": "text/x-python",
   "name": "python",
   "nbconvert_exporter": "python",
   "pygments_lexer": "ipython3",
   "version": "3.9.7"
  }
 },
 "nbformat": 4,
 "nbformat_minor": 5
}

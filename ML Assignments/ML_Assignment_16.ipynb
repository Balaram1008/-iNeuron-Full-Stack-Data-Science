{
 "cells": [
  {
   "cell_type": "code",
   "execution_count": null,
   "id": "a623fbff",
   "metadata": {},
   "outputs": [],
   "source": [
    "1. In a linear equation, what is the difference between a dependent variable and an independent variable ?"
   ]
  },
  {
   "cell_type": "code",
   "execution_count": null,
   "id": "1995198c",
   "metadata": {},
   "outputs": [],
   "source": [
    "Ans: Algebraically, a linear equation typically takes the form y = mx + b, where m and b are constants, x is the independent variable, y is the dependent variable. The slope tells us how the dependent variable (y) changes for every one unit increase in the independent (x) variable, on average.\n",
    "\n",
    "The variables in a study of a cause-and-effect relationship are called the independent and dependent variables. The independent variable is the cause. Its value is independent of other variables in your study. The dependent variable is the effect"
   ]
  },
  {
   "cell_type": "code",
   "execution_count": null,
   "id": "205f1bec",
   "metadata": {},
   "outputs": [],
   "source": [
    "2. What is the concept of simple linear regression? Give a specific example ?"
   ]
  },
  {
   "cell_type": "code",
   "execution_count": null,
   "id": "7d97273a",
   "metadata": {},
   "outputs": [],
   "source": [
    "Ans: Simple linear regression is a regression model that estimates the relationship between one independent variable and one dependent variable using a straight line. Both variables should be quantitative. Linear regression most often uses mean-square error (MSE) to calculate the error of the model.\n",
    "\n",
    "For example, suppose that height was the only determinant of body weight.In this example, if an individual was 70 inches tall, we would predict his weight to be: Weight = 80 + 2 x (70) = 220 lbs. In this simple linear regression, we are examining the impact of one independent variable on the outcome."
   ]
  },
  {
   "cell_type": "code",
   "execution_count": null,
   "id": "b8a002c0",
   "metadata": {},
   "outputs": [],
   "source": [
    "3. In a linear regression, define the slope ?"
   ]
  },
  {
   "cell_type": "code",
   "execution_count": null,
   "id": "09fdf116",
   "metadata": {},
   "outputs": [],
   "source": [
    "Ans: The slope of a regression line (b) represents the rate of change in y as x changes. Because y is dependent on x, the slope describes the predicted values of y given x. The slope must be calculated before the y-intercept when using a linear regression, as the intercept is calculated using the slope."
   ]
  },
  {
   "cell_type": "code",
   "execution_count": null,
   "id": "9ef0d877",
   "metadata": {},
   "outputs": [],
   "source": [
    "4. Determine the graph's slope, where the lower point on the line is represented as (3, 2) and the higher point is represented as (2, 2) ?"
   ]
  },
  {
   "cell_type": "code",
   "execution_count": null,
   "id": "fb30cd52",
   "metadata": {},
   "outputs": [],
   "source": [
    "Ans: The graph's slope, where the lower point on the line is represented as (3, 2) and the higher point is represented as (2, 2) is 0"
   ]
  },
  {
   "cell_type": "code",
   "execution_count": null,
   "id": "da9bda42",
   "metadata": {},
   "outputs": [],
   "source": [
    "5. In linear regression, what are the conditions for a positive slope ?"
   ]
  },
  {
   "cell_type": "code",
   "execution_count": null,
   "id": "98c1e4e5",
   "metadata": {},
   "outputs": [],
   "source": [
    "Ans: If the slope is positive, y increases as x increases, and the function runs \"uphill\" (going left to right). If the slope is zero, y does not change, thus is constant—a horizontal line."
   ]
  },
  {
   "cell_type": "code",
   "execution_count": null,
   "id": "aea97964",
   "metadata": {},
   "outputs": [],
   "source": [
    "6. In linear regression, what are the conditions for a negative slope ?"
   ]
  },
  {
   "cell_type": "code",
   "execution_count": null,
   "id": "c45beb39",
   "metadata": {},
   "outputs": [],
   "source": [
    "Ans: If the slope is negative, y decreases as x increases and the function runs downhill."
   ]
  },
  {
   "cell_type": "code",
   "execution_count": null,
   "id": "74e91840",
   "metadata": {},
   "outputs": [],
   "source": [
    "7. What is multiple linear regression and how does it work ?"
   ]
  },
  {
   "cell_type": "code",
   "execution_count": null,
   "id": "cf88a9ee",
   "metadata": {},
   "outputs": [],
   "source": [
    "Ans: Multiple linear regression refers to a statistical technique that uses two or more independent variables to predict the outcome of a dependent variable. The technique enables analysts to determine the variation of the model and the relative contribution of each independent variable in the total variance."
   ]
  },
  {
   "cell_type": "code",
   "execution_count": null,
   "id": "9e12b2f2",
   "metadata": {},
   "outputs": [],
   "source": [
    "8. In multiple linear regression, define the number of squares due to error ?"
   ]
  },
  {
   "cell_type": "code",
   "execution_count": null,
   "id": "7fc877f4",
   "metadata": {},
   "outputs": [],
   "source": [
    "Ans: The mean squared error (MSE) tells you how close a regression line is to a set of points. It does this by taking the distances from the points to the regression line (these distances are the “errors”) and squaring them. It's called the mean squared error as you're finding the average of a set of errors."
   ]
  },
  {
   "cell_type": "code",
   "execution_count": null,
   "id": "b3638165",
   "metadata": {},
   "outputs": [],
   "source": [
    "9. In multiple linear regression, define the number of squares due to regression ?"
   ]
  },
  {
   "cell_type": "code",
   "execution_count": null,
   "id": "f0926863",
   "metadata": {},
   "outputs": [],
   "source": [
    "Ans: Sum of squares is a statistical technique used in regression analysis to determine the dispersion of data points. In a regression analysis, the goal is to determine how well a data series can be fitted to a function that might help to explain how the data series was generated."
   ]
  },
  {
   "cell_type": "code",
   "execution_count": null,
   "id": "7f14cbf0",
   "metadata": {},
   "outputs": [],
   "source": [
    "10. In a regression equation, what is multicollinearity ?"
   ]
  },
  {
   "cell_type": "code",
   "execution_count": null,
   "id": "06db6aee",
   "metadata": {},
   "outputs": [],
   "source": [
    "Ans: Multicollinearity occurs when two or more independent variables are highly correlated with one another in a regression model. This means that an independent variable can be predicted from another independent variable in a regression model."
   ]
  },
  {
   "cell_type": "code",
   "execution_count": null,
   "id": "5070b89a",
   "metadata": {},
   "outputs": [],
   "source": [
    "11. What is heteroskedasticity, and what does it mean ?"
   ]
  },
  {
   "cell_type": "code",
   "execution_count": null,
   "id": "0f23db00",
   "metadata": {},
   "outputs": [],
   "source": [
    "Ans: Heteroskedasticity (also spelled heteroscedasticity) refers to the error variance, or dependence of scattering, within a minimum of one independent variable within a particular sample.A common cause of variances outside the minimum requirement is often attributed to issues of data quality."
   ]
  },
  {
   "cell_type": "code",
   "execution_count": null,
   "id": "2a2f9539",
   "metadata": {},
   "outputs": [],
   "source": [
    "12. Describe the concept of ridge regression ?"
   ]
  },
  {
   "cell_type": "code",
   "execution_count": null,
   "id": "71f2f8cb",
   "metadata": {},
   "outputs": [],
   "source": [
    "Ans: Ridge Regression is a technique for analyzing multiple regression data that suffer from multicollinearity.By adding a degree of bias to the regression estimates, ridge regression reduces the standard errors. It is hoped that the net effect will be to give estimates that are more reliable."
   ]
  },
  {
   "cell_type": "code",
   "execution_count": null,
   "id": "69669439",
   "metadata": {},
   "outputs": [],
   "source": [
    "13. Describe the concept of lasso regression ?"
   ]
  },
  {
   "cell_type": "code",
   "execution_count": null,
   "id": "51583175",
   "metadata": {},
   "outputs": [],
   "source": [
    "Ans: In statistics and machine learning, lasso (least absolute shrinkage and selection operator; also Lasso or LASSO) is a regression analysis method that performs both variable selection and regularization in order to enhance the prediction accuracy and interpretability of the resulting statistical model."
   ]
  },
  {
   "cell_type": "code",
   "execution_count": null,
   "id": "e7934411",
   "metadata": {},
   "outputs": [],
   "source": [
    "14. What is polynomial regression and how does it work ?"
   ]
  },
  {
   "cell_type": "code",
   "execution_count": null,
   "id": "4dc19a6e",
   "metadata": {},
   "outputs": [],
   "source": [
    "Ans: Polynomial Regression is a form of Linear regression known as a special case of Multiple linear regression which estimates the relationship as an nth degree polynomial. Polynomial Regression is sensitive to outliers so the presence of one or two outliers can also badly affect the performance."
   ]
  },
  {
   "cell_type": "code",
   "execution_count": null,
   "id": "f8d93059",
   "metadata": {},
   "outputs": [],
   "source": [
    "15. Describe the basis function ?"
   ]
  },
  {
   "cell_type": "code",
   "execution_count": null,
   "id": "10075f29",
   "metadata": {},
   "outputs": [],
   "source": [
    "Ans: This is a generalization of linear regression that essentially replaces each input with a function of the input. (A linear basis function model that uses the identity function is just linear regression.)"
   ]
  },
  {
   "cell_type": "code",
   "execution_count": null,
   "id": "ccbb3d72",
   "metadata": {},
   "outputs": [],
   "source": [
    "16. Describe how logistic regression works ?"
   ]
  },
  {
   "cell_type": "code",
   "execution_count": null,
   "id": "484508f6",
   "metadata": {},
   "outputs": [],
   "source": [
    "Ans: Logistic regression uses an equation as the representation, very much like linear regression. Input values (x) are combined linearly using weights or coefficient values (referred to as the Greek capital letter Beta) to predict an output value (y)."
   ]
  }
 ],
 "metadata": {
  "kernelspec": {
   "display_name": "Python 3 (ipykernel)",
   "language": "python",
   "name": "python3"
  },
  "language_info": {
   "codemirror_mode": {
    "name": "ipython",
    "version": 3
   },
   "file_extension": ".py",
   "mimetype": "text/x-python",
   "name": "python",
   "nbconvert_exporter": "python",
   "pygments_lexer": "ipython3",
   "version": "3.9.7"
  }
 },
 "nbformat": 4,
 "nbformat_minor": 5
}
